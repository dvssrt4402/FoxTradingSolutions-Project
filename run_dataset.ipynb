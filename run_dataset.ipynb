{
 "cells": [
  {
   "cell_type": "code",
   "execution_count": null,
   "metadata": {
    "id": "c6QWb8A6xx9h"
   },
   "outputs": [],
   "source": [
    "import tensorflow.compat.v1 as tf\n",
    "tf.disable_v2_behavior()\n",
    "import model\n",
    "\n",
    "import cv2\n",
    "from subprocess import call\n",
    "import os\n",
    "\n",
    "#check if on windows OS\n",
    "windows = False\n",
    "if os.name == 'nt':\n",
    "    windows = True\n",
    "\n",
    "sess = tf.InteractiveSession()\n",
    "saver = tf.train.Saver()\n",
    "saver.restore(sess, \"save/model.ckpt\")\n",
    "\n",
    "img = cv2.imread('steering_wheel_image.jpg',0)\n",
    "rows,cols = img.shape\n",
    "\n",
    "smoothed_angle = 0\n",
    "\n",
    "i = 0\n",
    "while(cv2.waitKey(10) != ord('q')):\n",
    "    full_image = cv2.imread(str(i) + \".jpg\")\n",
    "    if full_image is not None:\n",
    "        image = cv2.resize(full_image[-150:], (200, 66)) / 255.0\n",
    "        degrees = model.y.eval(feed_dict={model.x: [image], model.rate: 1.0})[0][0] * 180.0 / 3.14159265\n",
    "        if not windows:\n",
    "            call(\"clear\")\n",
    "        print(\"Predicted steering angle: \" + str(degrees) + \" degrees\")\n",
    "        cv2.imshow(\"frame\", full_image)\n",
    "        #make smooth angle transitions by turning the steering wheel based on the difference of the current angle\n",
    "        #and the predicted angle\n",
    "        smoothed_angle += 0.2 * pow(abs((degrees - smoothed_angle)), 2.0 / 3.0) * (degrees - smoothed_angle) / abs(degrees - smoothed_angle)\n",
    "        M = cv2.getRotationMatrix2D((cols/2,rows/2),-smoothed_angle,1)\n",
    "        dst = cv2.warpAffine(img,M,(cols,rows))\n",
    "        cv2.imshow(\"steering wheel\", dst)\n",
    "    i += 1\n",
    "\n",
    "cv2.destroyAllWindows()"
   ]
  },
  {
   "cell_type": "code",
   "execution_count": null,
   "metadata": {},
   "outputs": [],
   "source": []
  },
  {
   "cell_type": "code",
   "execution_count": null,
   "metadata": {},
   "outputs": [],
   "source": []
  }
 ],
 "metadata": {
  "accelerator": "GPU",
  "colab": {
   "authorship_tag": "ABX9TyODTzgLIPX307gWSZhSqI12",
   "collapsed_sections": [],
   "name": "run_dataset.ipynb",
   "provenance": []
  },
  "gpuClass": "standard",
  "kernelspec": {
   "display_name": "Python 3 (ipykernel)",
   "language": "python",
   "name": "python3"
  },
  "language_info": {
   "codemirror_mode": {
    "name": "ipython",
    "version": 3
   },
   "file_extension": ".py",
   "mimetype": "text/x-python",
   "name": "python",
   "nbconvert_exporter": "python",
   "pygments_lexer": "ipython3",
   "version": "3.9.12"
  }
 },
 "nbformat": 4,
 "nbformat_minor": 1
}
